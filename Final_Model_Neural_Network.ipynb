{
  "nbformat": 4,
  "nbformat_minor": 0,
  "metadata": {
    "colab": {
      "provenance": [],
      "gpuType": "T4",
      "toc_visible": true
    },
    "kernelspec": {
      "name": "python3",
      "display_name": "Python 3"
    },
    "language_info": {
      "name": "python"
    },
    "accelerator": "GPU"
  },
  "cells": [
    {
      "cell_type": "code",
      "source": [
        "import torch\n",
        "# For windows/linux will try CUDA first, then CPU\n",
        "device = torch.device(\"cuda\" if torch.cuda.is_available() else \"cpu\")\n",
        "print(device)\n",
        "\n",
        "#set default device for following code, so we don't need to specify device every time\n",
        "torch.set_default_device(device)"
      ],
      "metadata": {
        "colab": {
          "base_uri": "https://localhost:8080/"
        },
        "id": "nvW6LyOtjvi7",
        "outputId": "09b30082-a162-48a8-97d2-2c9628fee5ea"
      },
      "execution_count": null,
      "outputs": [
        {
          "output_type": "stream",
          "name": "stdout",
          "text": [
            "cuda\n"
          ]
        }
      ]
    },
    {
      "cell_type": "markdown",
      "source": [
        "load resale data"
      ],
      "metadata": {
        "id": "HbmL-jXjj3jL"
      }
    },
    {
      "cell_type": "code",
      "source": [
        "import pandas as pd\n",
        "#file_path = r\"C:\\content\\ResaleflatpricesbasedonregistrationdatefromJan2017onwards.csv\"\n",
        "df = pd.read_csv(\"ResaleflatpricesbasedonregistrationdatefromJan2017onwards.csv\")\n",
        "\n",
        "# Display basic info\n",
        "df.info(), df.head()"
      ],
      "metadata": {
        "colab": {
          "base_uri": "https://localhost:8080/"
        },
        "id": "jryCRSzxjyja",
        "outputId": "3cae8108-e446-49e6-8abd-ee9c2bbe63e9"
      },
      "execution_count": null,
      "outputs": [
        {
          "output_type": "stream",
          "name": "stdout",
          "text": [
            "<class 'pandas.core.frame.DataFrame'>\n",
            "RangeIndex: 202109 entries, 0 to 202108\n",
            "Data columns (total 11 columns):\n",
            " #   Column               Non-Null Count   Dtype  \n",
            "---  ------               --------------   -----  \n",
            " 0   month                202109 non-null  object \n",
            " 1   town                 202109 non-null  object \n",
            " 2   flat_type            202109 non-null  object \n",
            " 3   block                202109 non-null  object \n",
            " 4   street_name          202109 non-null  object \n",
            " 5   storey_range         202109 non-null  object \n",
            " 6   floor_area_sqm       202109 non-null  float64\n",
            " 7   flat_model           202109 non-null  object \n",
            " 8   lease_commence_date  202109 non-null  int64  \n",
            " 9   remaining_lease      202109 non-null  object \n",
            " 10  resale_price         202109 non-null  float64\n",
            "dtypes: float64(2), int64(1), object(8)\n",
            "memory usage: 17.0+ MB\n"
          ]
        },
        {
          "output_type": "execute_result",
          "data": {
            "text/plain": [
              "(None,\n",
              "      month        town flat_type block        street_name storey_range  \\\n",
              " 0  2017-01  ANG MO KIO    2 ROOM   406  ANG MO KIO AVE 10     10 TO 12   \n",
              " 1  2017-01  ANG MO KIO    3 ROOM   108   ANG MO KIO AVE 4     01 TO 03   \n",
              " 2  2017-01  ANG MO KIO    3 ROOM   602   ANG MO KIO AVE 5     01 TO 03   \n",
              " 3  2017-01  ANG MO KIO    3 ROOM   465  ANG MO KIO AVE 10     04 TO 06   \n",
              " 4  2017-01  ANG MO KIO    3 ROOM   601   ANG MO KIO AVE 5     01 TO 03   \n",
              " \n",
              "    floor_area_sqm      flat_model  lease_commence_date     remaining_lease  \\\n",
              " 0            44.0        Improved                 1979  61 years 04 months   \n",
              " 1            67.0  New Generation                 1978  60 years 07 months   \n",
              " 2            67.0  New Generation                 1980  62 years 05 months   \n",
              " 3            68.0  New Generation                 1980   62 years 01 month   \n",
              " 4            67.0  New Generation                 1980  62 years 05 months   \n",
              " \n",
              "    resale_price  \n",
              " 0      232000.0  \n",
              " 1      250000.0  \n",
              " 2      262000.0  \n",
              " 3      265000.0  \n",
              " 4      265000.0  )"
            ]
          },
          "metadata": {},
          "execution_count": 18
        }
      ]
    },
    {
      "cell_type": "markdown",
      "source": [
        "clean resale data"
      ],
      "metadata": {
        "id": "QgCQDWpIj7TR"
      }
    },
    {
      "cell_type": "code",
      "source": [
        "import numpy as np\n",
        "\n",
        "# Convert 'month' to datetime format\n",
        "df['month'] = pd.to_datetime(df['month'])\n",
        "\n",
        "df['year'] = df['month'].dt.year.astype(int)\n",
        "\n",
        "# Extract midpoint of storey range\n",
        "def extract_storey_midpoint(storey_range):\n",
        "    \"\"\"Convert storey range (e.g., '04 TO 06') into a single approximate storey number.\"\"\"\n",
        "    range_values = storey_range.split(\" TO \")\n",
        "    if len(range_values) == 2:\n",
        "        return (int(range_values[0]) + int(range_values[1])) / 2\n",
        "    return int(range_values[0])  # In case of a single value\n",
        "\n",
        "df['storey_mid'] = df['storey_range'].apply(extract_storey_midpoint)\n",
        "\n",
        "# Convert 'remaining_lease' to numerical format (years)\n",
        "def convert_remaining_lease(lease_str):\n",
        "    \"\"\"Extracts total lease years from 'XX years YY months'.\"\"\"\n",
        "    parts = lease_str.split(\" \")\n",
        "    years = int(parts[0])  # Extract the years part\n",
        "    months = int(parts[2]) if \"months\" in lease_str else 0  # Extract months if available\n",
        "    return years + (months / 12)  # Convert months to fraction of a year\n",
        "\n",
        "df['remaining_lease_years'] = df['remaining_lease'].apply(convert_remaining_lease)\n",
        "\n",
        "# Combine block and streetname\n",
        "df['Search Name'] = df['block'] + ' ' + df['street_name']\n",
        "\n",
        "# Drop unnecessary columns\n",
        "df_cleaned = df.drop(columns=['block', 'street_name', 'storey_range', 'remaining_lease'])\n",
        "\n",
        "# Show cleaned data info\n",
        "df_cleaned.info(), df_cleaned.head()\n"
      ],
      "metadata": {
        "colab": {
          "base_uri": "https://localhost:8080/"
        },
        "id": "Fx1MLqzTj2fQ",
        "outputId": "13d9599a-4d9d-4998-ab11-7794a584431a"
      },
      "execution_count": null,
      "outputs": [
        {
          "output_type": "stream",
          "name": "stdout",
          "text": [
            "<class 'pandas.core.frame.DataFrame'>\n",
            "RangeIndex: 202109 entries, 0 to 202108\n",
            "Data columns (total 11 columns):\n",
            " #   Column                 Non-Null Count   Dtype         \n",
            "---  ------                 --------------   -----         \n",
            " 0   month                  202109 non-null  datetime64[ns]\n",
            " 1   town                   202109 non-null  object        \n",
            " 2   flat_type              202109 non-null  object        \n",
            " 3   floor_area_sqm         202109 non-null  float64       \n",
            " 4   flat_model             202109 non-null  object        \n",
            " 5   lease_commence_date    202109 non-null  int64         \n",
            " 6   resale_price           202109 non-null  float64       \n",
            " 7   year                   202109 non-null  int64         \n",
            " 8   storey_mid             202109 non-null  float64       \n",
            " 9   remaining_lease_years  202109 non-null  float64       \n",
            " 10  Search Name            202109 non-null  object        \n",
            "dtypes: datetime64[ns](1), float64(4), int64(2), object(4)\n",
            "memory usage: 17.0+ MB\n"
          ]
        },
        {
          "output_type": "execute_result",
          "data": {
            "text/plain": [
              "(None,\n",
              "        month        town flat_type  floor_area_sqm      flat_model  \\\n",
              " 0 2017-01-01  ANG MO KIO    2 ROOM            44.0        Improved   \n",
              " 1 2017-01-01  ANG MO KIO    3 ROOM            67.0  New Generation   \n",
              " 2 2017-01-01  ANG MO KIO    3 ROOM            67.0  New Generation   \n",
              " 3 2017-01-01  ANG MO KIO    3 ROOM            68.0  New Generation   \n",
              " 4 2017-01-01  ANG MO KIO    3 ROOM            67.0  New Generation   \n",
              " \n",
              "    lease_commence_date  resale_price  year  storey_mid  remaining_lease_years  \\\n",
              " 0                 1979      232000.0  2017        11.0              61.333333   \n",
              " 1                 1978      250000.0  2017         2.0              60.583333   \n",
              " 2                 1980      262000.0  2017         2.0              62.416667   \n",
              " 3                 1980      265000.0  2017         5.0              62.000000   \n",
              " 4                 1980      265000.0  2017         2.0              62.416667   \n",
              " \n",
              "              Search Name  \n",
              " 0  406 ANG MO KIO AVE 10  \n",
              " 1   108 ANG MO KIO AVE 4  \n",
              " 2   602 ANG MO KIO AVE 5  \n",
              " 3  465 ANG MO KIO AVE 10  \n",
              " 4   601 ANG MO KIO AVE 5  )"
            ]
          },
          "metadata": {},
          "execution_count": 20
        }
      ]
    },
    {
      "cell_type": "markdown",
      "source": [
        "load amenities data"
      ],
      "metadata": {
        "id": "r9nh2ygr26Hc"
      }
    },
    {
      "cell_type": "code",
      "source": [
        "df_amenities = pd.read_csv(\"address_data_full.csv\")\n",
        "# Display basic info\n",
        "df_amenities.info(), df_amenities.head()"
      ],
      "metadata": {
        "colab": {
          "base_uri": "https://localhost:8080/"
        },
        "id": "kmVolK1blYvX",
        "outputId": "ca457e1a-2f2c-48be-d600-8459f4835516"
      },
      "execution_count": null,
      "outputs": [
        {
          "output_type": "stream",
          "name": "stdout",
          "text": [
            "<class 'pandas.core.frame.DataFrame'>\n",
            "RangeIndex: 9629 entries, 0 to 9628\n",
            "Data columns (total 10 columns):\n",
            " #   Column                 Non-Null Count  Dtype  \n",
            "---  ------                 --------------  -----  \n",
            " 0   Search Name            9629 non-null   object \n",
            " 1   Address                9629 non-null   object \n",
            " 2   Address Lat            9629 non-null   float64\n",
            " 3   Address Long           9629 non-null   float64\n",
            " 4   Nearest MRT Station    9629 non-null   object \n",
            " 5   Nearest MRT Distance   9629 non-null   float64\n",
            " 6   Nearest Mall Name      9629 non-null   object \n",
            " 7   Nearest Mall Distance  9629 non-null   float64\n",
            " 8   Nearest NPC            9629 non-null   object \n",
            " 9   Nearest NPC Distance   9629 non-null   float64\n",
            "dtypes: float64(5), object(5)\n",
            "memory usage: 752.4+ KB\n"
          ]
        },
        {
          "output_type": "execute_result",
          "data": {
            "text/plain": [
              "(None,\n",
              "              Search Name                   Address  Address Lat  Address Long  \\\n",
              " 0  406 ANG MO KIO AVE 10  406 ANG MO KIO AVENUE 10     1.362005    103.853880   \n",
              " 1   108 ANG MO KIO AVE 4   108 ANG MO KIO AVENUE 4     1.370966    103.838202   \n",
              " 2   602 ANG MO KIO AVE 5   602 ANG MO KIO AVENUE 5     1.380709    103.835368   \n",
              " 3  465 ANG MO KIO AVE 10  465 ANG MO KIO AVENUE 10     1.366201    103.857201   \n",
              " 4   601 ANG MO KIO AVE 5   601 ANG MO KIO AVENUE 5     1.381041    103.835132   \n",
              " \n",
              "              Nearest MRT Station  Nearest MRT Distance  \\\n",
              " 0  ANG MO KIO MRT STATION (NS16)              1.003997   \n",
              " 1    MAYFLOWER MRT STATION (TE6)              0.189875   \n",
              " 2       LENTOR MRT STATION (TE5)              0.535117   \n",
              " 3  ANG MO KIO MRT STATION (NS16)              0.945529   \n",
              " 4       LENTOR MRT STATION (TE5)              0.501152   \n",
              " \n",
              "                Nearest Mall Name  Nearest Mall Distance  \\\n",
              " 0                        AMK HUB               1.017286   \n",
              " 1                        AMK HUB               1.155700   \n",
              " 2                        AMK HUB               1.925633   \n",
              " 3  MYVILLAGE AT SERANGOON GARDEN               0.892904   \n",
              " 4                        AMK HUB               1.969726   \n",
              " \n",
              "                                     Nearest NPC  Nearest NPC Distance  \n",
              " 0            Bishan Neighbourhood Police Centre              0.829747  \n",
              " 1  Ang Mo Kio South Neighbourhood Police Centre              1.499927  \n",
              " 2  Ang Mo Kio North Neighbourhood Police Centre              1.182304  \n",
              " 3  Ang Mo Kio South Neighbourhood Police Centre              0.741873  \n",
              " 4  Ang Mo Kio North Neighbourhood Police Centre              1.192218  )"
            ]
          },
          "metadata": {},
          "execution_count": 21
        }
      ]
    },
    {
      "cell_type": "markdown",
      "source": [
        "merge resale and amenities"
      ],
      "metadata": {
        "id": "PmV3Iwgk28oq"
      }
    },
    {
      "cell_type": "code",
      "source": [
        "df_resale_amenities = pd.merge(df_cleaned, df_amenities, on='Search Name', how='left')\n",
        "\n",
        "# Show cleaned data info\n",
        "df_resale_amenities.info(), df_resale_amenities.head()"
      ],
      "metadata": {
        "colab": {
          "base_uri": "https://localhost:8080/"
        },
        "id": "EVDa7d8AlS7y",
        "outputId": "2866d3f5-d736-4797-a03b-56f62bffcdb8"
      },
      "execution_count": null,
      "outputs": [
        {
          "output_type": "stream",
          "name": "stdout",
          "text": [
            "<class 'pandas.core.frame.DataFrame'>\n",
            "RangeIndex: 202109 entries, 0 to 202108\n",
            "Data columns (total 20 columns):\n",
            " #   Column                 Non-Null Count   Dtype         \n",
            "---  ------                 --------------   -----         \n",
            " 0   month                  202109 non-null  datetime64[ns]\n",
            " 1   town                   202109 non-null  object        \n",
            " 2   flat_type              202109 non-null  object        \n",
            " 3   floor_area_sqm         202109 non-null  float64       \n",
            " 4   flat_model             202109 non-null  object        \n",
            " 5   lease_commence_date    202109 non-null  int64         \n",
            " 6   resale_price           202109 non-null  float64       \n",
            " 7   year                   202109 non-null  int64         \n",
            " 8   storey_mid             202109 non-null  float64       \n",
            " 9   remaining_lease_years  202109 non-null  float64       \n",
            " 10  Search Name            202109 non-null  object        \n",
            " 11  Address                202109 non-null  object        \n",
            " 12  Address Lat            202109 non-null  float64       \n",
            " 13  Address Long           202109 non-null  float64       \n",
            " 14  Nearest MRT Station    202109 non-null  object        \n",
            " 15  Nearest MRT Distance   202109 non-null  float64       \n",
            " 16  Nearest Mall Name      202109 non-null  object        \n",
            " 17  Nearest Mall Distance  202109 non-null  float64       \n",
            " 18  Nearest NPC            202109 non-null  object        \n",
            " 19  Nearest NPC Distance   202109 non-null  float64       \n",
            "dtypes: datetime64[ns](1), float64(9), int64(2), object(8)\n",
            "memory usage: 30.8+ MB\n"
          ]
        },
        {
          "output_type": "execute_result",
          "data": {
            "text/plain": [
              "(None,\n",
              "        month        town flat_type  floor_area_sqm      flat_model  \\\n",
              " 0 2017-01-01  ANG MO KIO    2 ROOM            44.0        Improved   \n",
              " 1 2017-01-01  ANG MO KIO    3 ROOM            67.0  New Generation   \n",
              " 2 2017-01-01  ANG MO KIO    3 ROOM            67.0  New Generation   \n",
              " 3 2017-01-01  ANG MO KIO    3 ROOM            68.0  New Generation   \n",
              " 4 2017-01-01  ANG MO KIO    3 ROOM            67.0  New Generation   \n",
              " \n",
              "    lease_commence_date  resale_price  year  storey_mid  remaining_lease_years  \\\n",
              " 0                 1979      232000.0  2017        11.0              61.333333   \n",
              " 1                 1978      250000.0  2017         2.0              60.583333   \n",
              " 2                 1980      262000.0  2017         2.0              62.416667   \n",
              " 3                 1980      265000.0  2017         5.0              62.000000   \n",
              " 4                 1980      265000.0  2017         2.0              62.416667   \n",
              " \n",
              "              Search Name                   Address  Address Lat  Address Long  \\\n",
              " 0  406 ANG MO KIO AVE 10  406 ANG MO KIO AVENUE 10     1.362005    103.853880   \n",
              " 1   108 ANG MO KIO AVE 4   108 ANG MO KIO AVENUE 4     1.370966    103.838202   \n",
              " 2   602 ANG MO KIO AVE 5   602 ANG MO KIO AVENUE 5     1.380709    103.835368   \n",
              " 3  465 ANG MO KIO AVE 10  465 ANG MO KIO AVENUE 10     1.366201    103.857201   \n",
              " 4   601 ANG MO KIO AVE 5   601 ANG MO KIO AVENUE 5     1.381041    103.835132   \n",
              " \n",
              "              Nearest MRT Station  Nearest MRT Distance  \\\n",
              " 0  ANG MO KIO MRT STATION (NS16)              1.003997   \n",
              " 1    MAYFLOWER MRT STATION (TE6)              0.189875   \n",
              " 2       LENTOR MRT STATION (TE5)              0.535117   \n",
              " 3  ANG MO KIO MRT STATION (NS16)              0.945529   \n",
              " 4       LENTOR MRT STATION (TE5)              0.501152   \n",
              " \n",
              "                Nearest Mall Name  Nearest Mall Distance  \\\n",
              " 0                        AMK HUB               1.017286   \n",
              " 1                        AMK HUB               1.155700   \n",
              " 2                        AMK HUB               1.925633   \n",
              " 3  MYVILLAGE AT SERANGOON GARDEN               0.892904   \n",
              " 4                        AMK HUB               1.969726   \n",
              " \n",
              "                                     Nearest NPC  Nearest NPC Distance  \n",
              " 0            Bishan Neighbourhood Police Centre              0.829747  \n",
              " 1  Ang Mo Kio South Neighbourhood Police Centre              1.499927  \n",
              " 2  Ang Mo Kio North Neighbourhood Police Centre              1.182304  \n",
              " 3  Ang Mo Kio South Neighbourhood Police Centre              0.741873  \n",
              " 4  Ang Mo Kio North Neighbourhood Police Centre              1.192218  )"
            ]
          },
          "metadata": {},
          "execution_count": 22
        }
      ]
    },
    {
      "cell_type": "markdown",
      "source": [
        "rename columns"
      ],
      "metadata": {
        "id": "bt3ccT633BQ5"
      }
    },
    {
      "cell_type": "code",
      "source": [
        "df_resale_amenities.drop(columns=['Address'], inplace=True)\n",
        "df_resale_amenities.rename(columns={'Search Name': 'Address'}, inplace=True)\n",
        "# Show cleaned data info\n",
        "df_resale_amenities.info(), df_resale_amenities.head()"
      ],
      "metadata": {
        "colab": {
          "base_uri": "https://localhost:8080/"
        },
        "id": "DzU2U2f4nlNv",
        "outputId": "68273350-3025-4690-9379-e91551b839cf"
      },
      "execution_count": null,
      "outputs": [
        {
          "output_type": "stream",
          "name": "stdout",
          "text": [
            "<class 'pandas.core.frame.DataFrame'>\n",
            "RangeIndex: 202109 entries, 0 to 202108\n",
            "Data columns (total 19 columns):\n",
            " #   Column                 Non-Null Count   Dtype         \n",
            "---  ------                 --------------   -----         \n",
            " 0   month                  202109 non-null  datetime64[ns]\n",
            " 1   town                   202109 non-null  object        \n",
            " 2   flat_type              202109 non-null  object        \n",
            " 3   floor_area_sqm         202109 non-null  float64       \n",
            " 4   flat_model             202109 non-null  object        \n",
            " 5   lease_commence_date    202109 non-null  int64         \n",
            " 6   resale_price           202109 non-null  float64       \n",
            " 7   year                   202109 non-null  int64         \n",
            " 8   storey_mid             202109 non-null  float64       \n",
            " 9   remaining_lease_years  202109 non-null  float64       \n",
            " 10  Address                202109 non-null  object        \n",
            " 11  Address Lat            202109 non-null  float64       \n",
            " 12  Address Long           202109 non-null  float64       \n",
            " 13  Nearest MRT Station    202109 non-null  object        \n",
            " 14  Nearest MRT Distance   202109 non-null  float64       \n",
            " 15  Nearest Mall Name      202109 non-null  object        \n",
            " 16  Nearest Mall Distance  202109 non-null  float64       \n",
            " 17  Nearest NPC            202109 non-null  object        \n",
            " 18  Nearest NPC Distance   202109 non-null  float64       \n",
            "dtypes: datetime64[ns](1), float64(9), int64(2), object(7)\n",
            "memory usage: 29.3+ MB\n"
          ]
        },
        {
          "output_type": "execute_result",
          "data": {
            "text/plain": [
              "(None,\n",
              "        month        town flat_type  floor_area_sqm      flat_model  \\\n",
              " 0 2017-01-01  ANG MO KIO    2 ROOM            44.0        Improved   \n",
              " 1 2017-01-01  ANG MO KIO    3 ROOM            67.0  New Generation   \n",
              " 2 2017-01-01  ANG MO KIO    3 ROOM            67.0  New Generation   \n",
              " 3 2017-01-01  ANG MO KIO    3 ROOM            68.0  New Generation   \n",
              " 4 2017-01-01  ANG MO KIO    3 ROOM            67.0  New Generation   \n",
              " \n",
              "    lease_commence_date  resale_price  year  storey_mid  remaining_lease_years  \\\n",
              " 0                 1979      232000.0  2017        11.0              61.333333   \n",
              " 1                 1978      250000.0  2017         2.0              60.583333   \n",
              " 2                 1980      262000.0  2017         2.0              62.416667   \n",
              " 3                 1980      265000.0  2017         5.0              62.000000   \n",
              " 4                 1980      265000.0  2017         2.0              62.416667   \n",
              " \n",
              "                  Address  Address Lat  Address Long  \\\n",
              " 0  406 ANG MO KIO AVE 10     1.362005    103.853880   \n",
              " 1   108 ANG MO KIO AVE 4     1.370966    103.838202   \n",
              " 2   602 ANG MO KIO AVE 5     1.380709    103.835368   \n",
              " 3  465 ANG MO KIO AVE 10     1.366201    103.857201   \n",
              " 4   601 ANG MO KIO AVE 5     1.381041    103.835132   \n",
              " \n",
              "              Nearest MRT Station  Nearest MRT Distance  \\\n",
              " 0  ANG MO KIO MRT STATION (NS16)              1.003997   \n",
              " 1    MAYFLOWER MRT STATION (TE6)              0.189875   \n",
              " 2       LENTOR MRT STATION (TE5)              0.535117   \n",
              " 3  ANG MO KIO MRT STATION (NS16)              0.945529   \n",
              " 4       LENTOR MRT STATION (TE5)              0.501152   \n",
              " \n",
              "                Nearest Mall Name  Nearest Mall Distance  \\\n",
              " 0                        AMK HUB               1.017286   \n",
              " 1                        AMK HUB               1.155700   \n",
              " 2                        AMK HUB               1.925633   \n",
              " 3  MYVILLAGE AT SERANGOON GARDEN               0.892904   \n",
              " 4                        AMK HUB               1.969726   \n",
              " \n",
              "                                     Nearest NPC  Nearest NPC Distance  \n",
              " 0            Bishan Neighbourhood Police Centre              0.829747  \n",
              " 1  Ang Mo Kio South Neighbourhood Police Centre              1.499927  \n",
              " 2  Ang Mo Kio North Neighbourhood Police Centre              1.182304  \n",
              " 3  Ang Mo Kio South Neighbourhood Police Centre              0.741873  \n",
              " 4  Ang Mo Kio North Neighbourhood Police Centre              1.192218  )"
            ]
          },
          "metadata": {},
          "execution_count": 23
        }
      ]
    },
    {
      "cell_type": "markdown",
      "source": [
        "load inflation data"
      ],
      "metadata": {
        "id": "ejFkddDlpMol"
      }
    },
    {
      "cell_type": "code",
      "execution_count": null,
      "metadata": {
        "colab": {
          "base_uri": "https://localhost:8080/"
        },
        "id": "9cpiQXqzhs0v",
        "outputId": "2267f5cd-565f-4c26-cc54-a73e738e9c8b"
      },
      "outputs": [
        {
          "output_type": "stream",
          "name": "stdout",
          "text": [
            "       month      cpi\n",
            "0 2025-02-01  100.677\n",
            "1 2025-01-01   99.908\n",
            "2 2024-12-01  100.661\n",
            "3 2024-11-01  100.387\n",
            "4 2024-10-01  100.119\n"
          ]
        }
      ],
      "source": [
        "import pandas as pd\n",
        "\n",
        "# Step 1: Load the raw CSV file without skipping rows\n",
        "raw_cpi = pd.read_csv(\"M213751 (1).csv\", header=None)\n",
        "\n",
        "# Step 2: Extract headers from row 10 and data from row 11\n",
        "headers = raw_cpi.iloc[10].tolist()\n",
        "cpi_values = raw_cpi.iloc[11].tolist()\n",
        "\n",
        "# Step 3: Clean headers\n",
        "headers_cleaned = [str(h).strip() for h in headers]\n",
        "\n",
        "# Step 4: Remove the first non-date header (\"Data Series\") and align CPI values\n",
        "valid_months = headers_cleaned[1:]                    # Remove \"Data Series\"\n",
        "valid_cpis = cpi_values[1:1 + len(valid_months)]      # Align CPI values\n",
        "\n",
        "# Step 5: Build clean DataFrame\n",
        "cpi_df_cleaned = pd.DataFrame({\n",
        "    'month': valid_months,\n",
        "    'cpi': valid_cpis\n",
        "})\n",
        "\n",
        "# Step 6: Convert types\n",
        "cpi_df_cleaned['month'] = pd.to_datetime(cpi_df_cleaned['month'], format='%Y %b', errors='coerce')\n",
        "cpi_df_cleaned['cpi'] = pd.to_numeric(cpi_df_cleaned['cpi'], errors='coerce')\n",
        "\n",
        "# Step 7: Drop any invalid rows\n",
        "cpi_df_cleaned = cpi_df_cleaned.dropna(subset=['month', 'cpi'])\n",
        "\n",
        "# Final CPI output\n",
        "print(cpi_df_cleaned.head())\n"
      ]
    },
    {
      "cell_type": "code",
      "source": [
        "# STEP 1: Ensure 'month' column in HDB dataset is datetime\n",
        "df_resale_amenities['month'] = pd.to_datetime(df_resale_amenities['month'])\n",
        "\n",
        "# STEP 2: Merge CPI data on 'month'\n",
        "df_merged = pd.merge(df_resale_amenities, cpi_df_cleaned, on='month', how='left')\n",
        "\n",
        "# STEP 3: Inspect merged result\n",
        "print(df_merged[['month', 'resale_price', 'cpi']].head())\n"
      ],
      "metadata": {
        "colab": {
          "base_uri": "https://localhost:8080/"
        },
        "id": "vJoexTHb2jjv",
        "outputId": "3ddfbfee-e9d8-4cd8-fa1e-0d89d23b87a9"
      },
      "execution_count": null,
      "outputs": [
        {
          "output_type": "stream",
          "name": "stdout",
          "text": [
            "       month  resale_price     cpi\n",
            "0 2017-01-01      232000.0  85.102\n",
            "1 2017-01-01      250000.0  85.102\n",
            "2 2017-01-01      262000.0  85.102\n",
            "3 2017-01-01      265000.0  85.102\n",
            "4 2017-01-01      265000.0  85.102\n"
          ]
        }
      ]
    },
    {
      "cell_type": "code",
      "source": [
        "# Use latest CPI as the base (assumed to be Feb 2025 or Jan 2024)\n",
        "base_cpi = cpi_df_cleaned['cpi'].iloc[0]  # or .max() if you prefer\n",
        "\n",
        "# Create inflation-adjusted price column\n",
        "df_merged['resale_price_real'] = df_merged['resale_price'] * (base_cpi / df_merged['cpi'])\n",
        "\n",
        "# Preview adjusted prices\n",
        "df_merged[['resale_price', 'cpi', 'resale_price_real']].head()"
      ],
      "metadata": {
        "colab": {
          "base_uri": "https://localhost:8080/",
          "height": 206
        },
        "id": "IhEpYW7I3c1h",
        "outputId": "550076d6-6de5-4976-d849-393393a4a840"
      },
      "execution_count": null,
      "outputs": [
        {
          "output_type": "execute_result",
          "data": {
            "text/plain": [
              "   resale_price     cpi  resale_price_real\n",
              "0      232000.0  85.102      274459.636671\n",
              "1      250000.0  85.102      295753.918827\n",
              "2      262000.0  85.102      309950.106931\n",
              "3      265000.0  85.102      313499.153956\n",
              "4      265000.0  85.102      313499.153956"
            ],
            "text/html": [
              "\n",
              "  <div id=\"df-5da7bbbf-35fc-4d30-ad5d-976f74165e94\" class=\"colab-df-container\">\n",
              "    <div>\n",
              "<style scoped>\n",
              "    .dataframe tbody tr th:only-of-type {\n",
              "        vertical-align: middle;\n",
              "    }\n",
              "\n",
              "    .dataframe tbody tr th {\n",
              "        vertical-align: top;\n",
              "    }\n",
              "\n",
              "    .dataframe thead th {\n",
              "        text-align: right;\n",
              "    }\n",
              "</style>\n",
              "<table border=\"1\" class=\"dataframe\">\n",
              "  <thead>\n",
              "    <tr style=\"text-align: right;\">\n",
              "      <th></th>\n",
              "      <th>resale_price</th>\n",
              "      <th>cpi</th>\n",
              "      <th>resale_price_real</th>\n",
              "    </tr>\n",
              "  </thead>\n",
              "  <tbody>\n",
              "    <tr>\n",
              "      <th>0</th>\n",
              "      <td>232000.0</td>\n",
              "      <td>85.102</td>\n",
              "      <td>274459.636671</td>\n",
              "    </tr>\n",
              "    <tr>\n",
              "      <th>1</th>\n",
              "      <td>250000.0</td>\n",
              "      <td>85.102</td>\n",
              "      <td>295753.918827</td>\n",
              "    </tr>\n",
              "    <tr>\n",
              "      <th>2</th>\n",
              "      <td>262000.0</td>\n",
              "      <td>85.102</td>\n",
              "      <td>309950.106931</td>\n",
              "    </tr>\n",
              "    <tr>\n",
              "      <th>3</th>\n",
              "      <td>265000.0</td>\n",
              "      <td>85.102</td>\n",
              "      <td>313499.153956</td>\n",
              "    </tr>\n",
              "    <tr>\n",
              "      <th>4</th>\n",
              "      <td>265000.0</td>\n",
              "      <td>85.102</td>\n",
              "      <td>313499.153956</td>\n",
              "    </tr>\n",
              "  </tbody>\n",
              "</table>\n",
              "</div>\n",
              "    <div class=\"colab-df-buttons\">\n",
              "\n",
              "  <div class=\"colab-df-container\">\n",
              "    <button class=\"colab-df-convert\" onclick=\"convertToInteractive('df-5da7bbbf-35fc-4d30-ad5d-976f74165e94')\"\n",
              "            title=\"Convert this dataframe to an interactive table.\"\n",
              "            style=\"display:none;\">\n",
              "\n",
              "  <svg xmlns=\"http://www.w3.org/2000/svg\" height=\"24px\" viewBox=\"0 -960 960 960\">\n",
              "    <path d=\"M120-120v-720h720v720H120Zm60-500h600v-160H180v160Zm220 220h160v-160H400v160Zm0 220h160v-160H400v160ZM180-400h160v-160H180v160Zm440 0h160v-160H620v160ZM180-180h160v-160H180v160Zm440 0h160v-160H620v160Z\"/>\n",
              "  </svg>\n",
              "    </button>\n",
              "\n",
              "  <style>\n",
              "    .colab-df-container {\n",
              "      display:flex;\n",
              "      gap: 12px;\n",
              "    }\n",
              "\n",
              "    .colab-df-convert {\n",
              "      background-color: #E8F0FE;\n",
              "      border: none;\n",
              "      border-radius: 50%;\n",
              "      cursor: pointer;\n",
              "      display: none;\n",
              "      fill: #1967D2;\n",
              "      height: 32px;\n",
              "      padding: 0 0 0 0;\n",
              "      width: 32px;\n",
              "    }\n",
              "\n",
              "    .colab-df-convert:hover {\n",
              "      background-color: #E2EBFA;\n",
              "      box-shadow: 0px 1px 2px rgba(60, 64, 67, 0.3), 0px 1px 3px 1px rgba(60, 64, 67, 0.15);\n",
              "      fill: #174EA6;\n",
              "    }\n",
              "\n",
              "    .colab-df-buttons div {\n",
              "      margin-bottom: 4px;\n",
              "    }\n",
              "\n",
              "    [theme=dark] .colab-df-convert {\n",
              "      background-color: #3B4455;\n",
              "      fill: #D2E3FC;\n",
              "    }\n",
              "\n",
              "    [theme=dark] .colab-df-convert:hover {\n",
              "      background-color: #434B5C;\n",
              "      box-shadow: 0px 1px 3px 1px rgba(0, 0, 0, 0.15);\n",
              "      filter: drop-shadow(0px 1px 2px rgba(0, 0, 0, 0.3));\n",
              "      fill: #FFFFFF;\n",
              "    }\n",
              "  </style>\n",
              "\n",
              "    <script>\n",
              "      const buttonEl =\n",
              "        document.querySelector('#df-5da7bbbf-35fc-4d30-ad5d-976f74165e94 button.colab-df-convert');\n",
              "      buttonEl.style.display =\n",
              "        google.colab.kernel.accessAllowed ? 'block' : 'none';\n",
              "\n",
              "      async function convertToInteractive(key) {\n",
              "        const element = document.querySelector('#df-5da7bbbf-35fc-4d30-ad5d-976f74165e94');\n",
              "        const dataTable =\n",
              "          await google.colab.kernel.invokeFunction('convertToInteractive',\n",
              "                                                    [key], {});\n",
              "        if (!dataTable) return;\n",
              "\n",
              "        const docLinkHtml = 'Like what you see? Visit the ' +\n",
              "          '<a target=\"_blank\" href=https://colab.research.google.com/notebooks/data_table.ipynb>data table notebook</a>'\n",
              "          + ' to learn more about interactive tables.';\n",
              "        element.innerHTML = '';\n",
              "        dataTable['output_type'] = 'display_data';\n",
              "        await google.colab.output.renderOutput(dataTable, element);\n",
              "        const docLink = document.createElement('div');\n",
              "        docLink.innerHTML = docLinkHtml;\n",
              "        element.appendChild(docLink);\n",
              "      }\n",
              "    </script>\n",
              "  </div>\n",
              "\n",
              "\n",
              "<div id=\"df-c163f497-339a-4495-b374-71f459534915\">\n",
              "  <button class=\"colab-df-quickchart\" onclick=\"quickchart('df-c163f497-339a-4495-b374-71f459534915')\"\n",
              "            title=\"Suggest charts\"\n",
              "            style=\"display:none;\">\n",
              "\n",
              "<svg xmlns=\"http://www.w3.org/2000/svg\" height=\"24px\"viewBox=\"0 0 24 24\"\n",
              "     width=\"24px\">\n",
              "    <g>\n",
              "        <path d=\"M19 3H5c-1.1 0-2 .9-2 2v14c0 1.1.9 2 2 2h14c1.1 0 2-.9 2-2V5c0-1.1-.9-2-2-2zM9 17H7v-7h2v7zm4 0h-2V7h2v10zm4 0h-2v-4h2v4z\"/>\n",
              "    </g>\n",
              "</svg>\n",
              "  </button>\n",
              "\n",
              "<style>\n",
              "  .colab-df-quickchart {\n",
              "      --bg-color: #E8F0FE;\n",
              "      --fill-color: #1967D2;\n",
              "      --hover-bg-color: #E2EBFA;\n",
              "      --hover-fill-color: #174EA6;\n",
              "      --disabled-fill-color: #AAA;\n",
              "      --disabled-bg-color: #DDD;\n",
              "  }\n",
              "\n",
              "  [theme=dark] .colab-df-quickchart {\n",
              "      --bg-color: #3B4455;\n",
              "      --fill-color: #D2E3FC;\n",
              "      --hover-bg-color: #434B5C;\n",
              "      --hover-fill-color: #FFFFFF;\n",
              "      --disabled-bg-color: #3B4455;\n",
              "      --disabled-fill-color: #666;\n",
              "  }\n",
              "\n",
              "  .colab-df-quickchart {\n",
              "    background-color: var(--bg-color);\n",
              "    border: none;\n",
              "    border-radius: 50%;\n",
              "    cursor: pointer;\n",
              "    display: none;\n",
              "    fill: var(--fill-color);\n",
              "    height: 32px;\n",
              "    padding: 0;\n",
              "    width: 32px;\n",
              "  }\n",
              "\n",
              "  .colab-df-quickchart:hover {\n",
              "    background-color: var(--hover-bg-color);\n",
              "    box-shadow: 0 1px 2px rgba(60, 64, 67, 0.3), 0 1px 3px 1px rgba(60, 64, 67, 0.15);\n",
              "    fill: var(--button-hover-fill-color);\n",
              "  }\n",
              "\n",
              "  .colab-df-quickchart-complete:disabled,\n",
              "  .colab-df-quickchart-complete:disabled:hover {\n",
              "    background-color: var(--disabled-bg-color);\n",
              "    fill: var(--disabled-fill-color);\n",
              "    box-shadow: none;\n",
              "  }\n",
              "\n",
              "  .colab-df-spinner {\n",
              "    border: 2px solid var(--fill-color);\n",
              "    border-color: transparent;\n",
              "    border-bottom-color: var(--fill-color);\n",
              "    animation:\n",
              "      spin 1s steps(1) infinite;\n",
              "  }\n",
              "\n",
              "  @keyframes spin {\n",
              "    0% {\n",
              "      border-color: transparent;\n",
              "      border-bottom-color: var(--fill-color);\n",
              "      border-left-color: var(--fill-color);\n",
              "    }\n",
              "    20% {\n",
              "      border-color: transparent;\n",
              "      border-left-color: var(--fill-color);\n",
              "      border-top-color: var(--fill-color);\n",
              "    }\n",
              "    30% {\n",
              "      border-color: transparent;\n",
              "      border-left-color: var(--fill-color);\n",
              "      border-top-color: var(--fill-color);\n",
              "      border-right-color: var(--fill-color);\n",
              "    }\n",
              "    40% {\n",
              "      border-color: transparent;\n",
              "      border-right-color: var(--fill-color);\n",
              "      border-top-color: var(--fill-color);\n",
              "    }\n",
              "    60% {\n",
              "      border-color: transparent;\n",
              "      border-right-color: var(--fill-color);\n",
              "    }\n",
              "    80% {\n",
              "      border-color: transparent;\n",
              "      border-right-color: var(--fill-color);\n",
              "      border-bottom-color: var(--fill-color);\n",
              "    }\n",
              "    90% {\n",
              "      border-color: transparent;\n",
              "      border-bottom-color: var(--fill-color);\n",
              "    }\n",
              "  }\n",
              "</style>\n",
              "\n",
              "  <script>\n",
              "    async function quickchart(key) {\n",
              "      const quickchartButtonEl =\n",
              "        document.querySelector('#' + key + ' button');\n",
              "      quickchartButtonEl.disabled = true;  // To prevent multiple clicks.\n",
              "      quickchartButtonEl.classList.add('colab-df-spinner');\n",
              "      try {\n",
              "        const charts = await google.colab.kernel.invokeFunction(\n",
              "            'suggestCharts', [key], {});\n",
              "      } catch (error) {\n",
              "        console.error('Error during call to suggestCharts:', error);\n",
              "      }\n",
              "      quickchartButtonEl.classList.remove('colab-df-spinner');\n",
              "      quickchartButtonEl.classList.add('colab-df-quickchart-complete');\n",
              "    }\n",
              "    (() => {\n",
              "      let quickchartButtonEl =\n",
              "        document.querySelector('#df-c163f497-339a-4495-b374-71f459534915 button');\n",
              "      quickchartButtonEl.style.display =\n",
              "        google.colab.kernel.accessAllowed ? 'block' : 'none';\n",
              "    })();\n",
              "  </script>\n",
              "</div>\n",
              "\n",
              "    </div>\n",
              "  </div>\n"
            ],
            "application/vnd.google.colaboratory.intrinsic+json": {
              "type": "dataframe",
              "summary": "{\n  \"name\": \"df_merged[['resale_price', 'cpi', 'resale_price_real']]\",\n  \"rows\": 5,\n  \"fields\": [\n    {\n      \"column\": \"resale_price\",\n      \"properties\": {\n        \"dtype\": \"number\",\n        \"std\": 14166.862743741114,\n        \"min\": 232000.0,\n        \"max\": 265000.0,\n        \"num_unique_values\": 4,\n        \"samples\": [\n          250000.0,\n          265000.0,\n          232000.0\n        ],\n        \"semantic_type\": \"\",\n        \"description\": \"\"\n      }\n    },\n    {\n      \"column\": \"cpi\",\n      \"properties\": {\n        \"dtype\": \"number\",\n        \"std\": 0.0,\n        \"min\": 85.102,\n        \"max\": 85.102,\n        \"num_unique_values\": 1,\n        \"samples\": [\n          85.102\n        ],\n        \"semantic_type\": \"\",\n        \"description\": \"\"\n      }\n    },\n    {\n      \"column\": \"resale_price_real\",\n      \"properties\": {\n        \"dtype\": \"number\",\n        \"std\": 16759.620695772406,\n        \"min\": 274459.6366712886,\n        \"max\": 313499.15395642875,\n        \"num_unique_values\": 4,\n        \"samples\": [\n          295753.9188268196\n        ],\n        \"semantic_type\": \"\",\n        \"description\": \"\"\n      }\n    }\n  ]\n}"
            }
          },
          "metadata": {},
          "execution_count": 41
        }
      ]
    },
    {
      "cell_type": "code",
      "source": [
        "df_merged.info(), df_merged.head()"
      ],
      "metadata": {
        "colab": {
          "base_uri": "https://localhost:8080/"
        },
        "id": "-6pPjF833js1",
        "outputId": "e3381df2-3011-4722-e304-b909495195f1"
      },
      "execution_count": null,
      "outputs": [
        {
          "output_type": "stream",
          "name": "stdout",
          "text": [
            "<class 'pandas.core.frame.DataFrame'>\n",
            "RangeIndex: 202109 entries, 0 to 202108\n",
            "Data columns (total 21 columns):\n",
            " #   Column                 Non-Null Count   Dtype         \n",
            "---  ------                 --------------   -----         \n",
            " 0   month                  202109 non-null  datetime64[ns]\n",
            " 1   town                   202109 non-null  object        \n",
            " 2   flat_type              202109 non-null  object        \n",
            " 3   floor_area_sqm         202109 non-null  float64       \n",
            " 4   flat_model             202109 non-null  object        \n",
            " 5   lease_commence_date    202109 non-null  int64         \n",
            " 6   resale_price           202109 non-null  float64       \n",
            " 7   year                   202109 non-null  int64         \n",
            " 8   storey_mid             202109 non-null  float64       \n",
            " 9   remaining_lease_years  202109 non-null  float64       \n",
            " 10  Address                202109 non-null  object        \n",
            " 11  Address Lat            202109 non-null  float64       \n",
            " 12  Address Long           202109 non-null  float64       \n",
            " 13  Nearest MRT Station    202109 non-null  object        \n",
            " 14  Nearest MRT Distance   202109 non-null  float64       \n",
            " 15  Nearest Mall Name      202109 non-null  object        \n",
            " 16  Nearest Mall Distance  202109 non-null  float64       \n",
            " 17  Nearest NPC            202109 non-null  object        \n",
            " 18  Nearest NPC Distance   202109 non-null  float64       \n",
            " 19  cpi                    201405 non-null  float64       \n",
            " 20  resale_price_real      201405 non-null  float64       \n",
            "dtypes: datetime64[ns](1), float64(11), int64(2), object(7)\n",
            "memory usage: 32.4+ MB\n"
          ]
        },
        {
          "output_type": "execute_result",
          "data": {
            "text/plain": [
              "(None,\n",
              "        month        town flat_type  floor_area_sqm      flat_model  \\\n",
              " 0 2017-01-01  ANG MO KIO    2 ROOM            44.0        Improved   \n",
              " 1 2017-01-01  ANG MO KIO    3 ROOM            67.0  New Generation   \n",
              " 2 2017-01-01  ANG MO KIO    3 ROOM            67.0  New Generation   \n",
              " 3 2017-01-01  ANG MO KIO    3 ROOM            68.0  New Generation   \n",
              " 4 2017-01-01  ANG MO KIO    3 ROOM            67.0  New Generation   \n",
              " \n",
              "    lease_commence_date  resale_price  year  storey_mid  remaining_lease_years  \\\n",
              " 0                 1979      232000.0  2017        11.0              61.333333   \n",
              " 1                 1978      250000.0  2017         2.0              60.583333   \n",
              " 2                 1980      262000.0  2017         2.0              62.416667   \n",
              " 3                 1980      265000.0  2017         5.0              62.000000   \n",
              " 4                 1980      265000.0  2017         2.0              62.416667   \n",
              " \n",
              "    ... Address Lat  Address Long            Nearest MRT Station  \\\n",
              " 0  ...    1.362005    103.853880  ANG MO KIO MRT STATION (NS16)   \n",
              " 1  ...    1.370966    103.838202    MAYFLOWER MRT STATION (TE6)   \n",
              " 2  ...    1.380709    103.835368       LENTOR MRT STATION (TE5)   \n",
              " 3  ...    1.366201    103.857201  ANG MO KIO MRT STATION (NS16)   \n",
              " 4  ...    1.381041    103.835132       LENTOR MRT STATION (TE5)   \n",
              " \n",
              "   Nearest MRT Distance              Nearest Mall Name Nearest Mall Distance  \\\n",
              " 0             1.003997                        AMK HUB              1.017286   \n",
              " 1             0.189875                        AMK HUB              1.155700   \n",
              " 2             0.535117                        AMK HUB              1.925633   \n",
              " 3             0.945529  MYVILLAGE AT SERANGOON GARDEN              0.892904   \n",
              " 4             0.501152                        AMK HUB              1.969726   \n",
              " \n",
              "                                     Nearest NPC Nearest NPC Distance     cpi  \\\n",
              " 0            Bishan Neighbourhood Police Centre             0.829747  85.102   \n",
              " 1  Ang Mo Kio South Neighbourhood Police Centre             1.499927  85.102   \n",
              " 2  Ang Mo Kio North Neighbourhood Police Centre             1.182304  85.102   \n",
              " 3  Ang Mo Kio South Neighbourhood Police Centre             0.741873  85.102   \n",
              " 4  Ang Mo Kio North Neighbourhood Police Centre             1.192218  85.102   \n",
              " \n",
              "    resale_price_real  \n",
              " 0      274459.636671  \n",
              " 1      295753.918827  \n",
              " 2      309950.106931  \n",
              " 3      313499.153956  \n",
              " 4      313499.153956  \n",
              " \n",
              " [5 rows x 21 columns])"
            ]
          },
          "metadata": {},
          "execution_count": 42
        }
      ]
    },
    {
      "cell_type": "code",
      "source": [
        "df_merged.to_csv('df_merged.csv', index=False)"
      ],
      "metadata": {
        "id": "NYtZwN9l4j41"
      },
      "execution_count": null,
      "outputs": []
    },
    {
      "cell_type": "code",
      "source": [
        "df_merged = pd.read_csv(\"df_merged.csv\")\n",
        "print((df_merged.isna().all(axis=1)).sum())"
      ],
      "metadata": {
        "colab": {
          "base_uri": "https://localhost:8080/"
        },
        "id": "NGj_icrm8MAp",
        "outputId": "78b6fa68-223b-40fa-87f5-9fe9866a91dd"
      },
      "execution_count": null,
      "outputs": [
        {
          "output_type": "stream",
          "name": "stdout",
          "text": [
            "704\n"
          ]
        }
      ]
    },
    {
      "cell_type": "code",
      "source": [
        "df_merged = df_merged.dropna(how='all')  # This removes rows where *all* values are NaN\n",
        "df_merged.to_csv('df_merged2.csv', index=False)"
      ],
      "metadata": {
        "id": "Q5y8sLmoPt9T"
      },
      "execution_count": null,
      "outputs": []
    },
    {
      "cell_type": "markdown",
      "source": [
        "Start"
      ],
      "metadata": {
        "id": "ya6JzMTIUptA"
      }
    },
    {
      "cell_type": "code",
      "source": [
        "import pandas as pd\n",
        "import numpy as np"
      ],
      "metadata": {
        "id": "cxGDRtF_PM4g"
      },
      "execution_count": null,
      "outputs": []
    },
    {
      "cell_type": "code",
      "source": [
        "df_merged = pd.read_csv(\"df_merged.csv\")\n",
        "df_merged.info(), df_merged.head()"
      ],
      "metadata": {
        "colab": {
          "base_uri": "https://localhost:8080/"
        },
        "id": "sxAuQfNC-L_v",
        "outputId": "c38a6157-d283-4f93-b196-735c6c19e758"
      },
      "execution_count": null,
      "outputs": [
        {
          "output_type": "stream",
          "name": "stdout",
          "text": [
            "<class 'pandas.core.frame.DataFrame'>\n",
            "RangeIndex: 201405 entries, 0 to 201404\n",
            "Data columns (total 21 columns):\n",
            " #   Column                 Non-Null Count   Dtype  \n",
            "---  ------                 --------------   -----  \n",
            " 0   month                  201405 non-null  object \n",
            " 1   town                   201405 non-null  object \n",
            " 2   flat_type              201405 non-null  object \n",
            " 3   floor_area_sqm         201405 non-null  float64\n",
            " 4   flat_model             201405 non-null  object \n",
            " 5   lease_commence_date    201405 non-null  float64\n",
            " 6   resale_price           201405 non-null  float64\n",
            " 7   year                   201405 non-null  float64\n",
            " 8   storey_mid             201405 non-null  float64\n",
            " 9   remaining_lease_years  201405 non-null  float64\n",
            " 10  Address                201405 non-null  object \n",
            " 11  Address Lat            201405 non-null  float64\n",
            " 12  Address Long           201405 non-null  float64\n",
            " 13  Nearest MRT Station    201405 non-null  object \n",
            " 14  Nearest MRT Distance   201405 non-null  float64\n",
            " 15  Nearest Mall Name      201405 non-null  object \n",
            " 16  Nearest Mall Distance  201405 non-null  float64\n",
            " 17  Nearest NPC            201405 non-null  object \n",
            " 18  Nearest NPC Distance   201405 non-null  float64\n",
            " 19  cpi                    201405 non-null  float64\n",
            " 20  resale_price_real      201405 non-null  float64\n",
            "dtypes: float64(13), object(8)\n",
            "memory usage: 32.3+ MB\n"
          ]
        },
        {
          "output_type": "execute_result",
          "data": {
            "text/plain": [
              "(None,\n",
              "       month        town flat_type  floor_area_sqm      flat_model  \\\n",
              " 0  1/1/2017  ANG MO KIO    2 ROOM            44.0        Improved   \n",
              " 1  1/1/2017  ANG MO KIO    3 ROOM            67.0  New Generation   \n",
              " 2  1/1/2017  ANG MO KIO    3 ROOM            67.0  New Generation   \n",
              " 3  1/1/2017  ANG MO KIO    3 ROOM            68.0  New Generation   \n",
              " 4  1/1/2017  ANG MO KIO    3 ROOM            67.0  New Generation   \n",
              " \n",
              "    lease_commence_date  resale_price    year  storey_mid  \\\n",
              " 0               1979.0      232000.0  2017.0        11.0   \n",
              " 1               1978.0      250000.0  2017.0         2.0   \n",
              " 2               1980.0      262000.0  2017.0         2.0   \n",
              " 3               1980.0      265000.0  2017.0         5.0   \n",
              " 4               1980.0      265000.0  2017.0         2.0   \n",
              " \n",
              "    remaining_lease_years  ... Address Lat  Address Long  \\\n",
              " 0              61.333333  ...    1.362005    103.853880   \n",
              " 1              60.583333  ...    1.370966    103.838202   \n",
              " 2              62.416667  ...    1.380709    103.835368   \n",
              " 3              62.000000  ...    1.366201    103.857201   \n",
              " 4              62.416667  ...    1.381041    103.835132   \n",
              " \n",
              "              Nearest MRT Station Nearest MRT Distance  \\\n",
              " 0  ANG MO KIO MRT STATION (NS16)             1.003997   \n",
              " 1    MAYFLOWER MRT STATION (TE6)             0.189875   \n",
              " 2       LENTOR MRT STATION (TE5)             0.535117   \n",
              " 3  ANG MO KIO MRT STATION (NS16)             0.945529   \n",
              " 4       LENTOR MRT STATION (TE5)             0.501152   \n",
              " \n",
              "                Nearest Mall Name Nearest Mall Distance  \\\n",
              " 0                        AMK HUB              1.017286   \n",
              " 1                        AMK HUB              1.155700   \n",
              " 2                        AMK HUB              1.925633   \n",
              " 3  MYVILLAGE AT SERANGOON GARDEN              0.892904   \n",
              " 4                        AMK HUB              1.969726   \n",
              " \n",
              "                                     Nearest NPC Nearest NPC Distance     cpi  \\\n",
              " 0            Bishan Neighbourhood Police Centre             0.829747  85.102   \n",
              " 1  Ang Mo Kio South Neighbourhood Police Centre             1.499927  85.102   \n",
              " 2  Ang Mo Kio North Neighbourhood Police Centre             1.182304  85.102   \n",
              " 3  Ang Mo Kio South Neighbourhood Police Centre             0.741873  85.102   \n",
              " 4  Ang Mo Kio North Neighbourhood Police Centre             1.192218  85.102   \n",
              " \n",
              "    resale_price_real  \n",
              " 0      274459.636671  \n",
              " 1      295753.918827  \n",
              " 2      309950.106931  \n",
              " 3      313499.153956  \n",
              " 4      313499.153956  \n",
              " \n",
              " [5 rows x 21 columns])"
            ]
          },
          "metadata": {},
          "execution_count": 4
        }
      ]
    },
    {
      "cell_type": "code",
      "source": [
        "from sklearn.model_selection import train_test_split\n",
        "\n",
        "x = df_merged.drop(columns=['resale_price', 'month', 'Address', 'resale_price_real', 'Address Lat', 'Address Long'])\n",
        "x = pd.get_dummies(x, columns=['town', 'flat_type', 'flat_model', 'Nearest MRT Station', 'Nearest Mall Name', 'Nearest NPC'])\n",
        "y = df_merged['resale_price_real']\n",
        "\n",
        "x_train, x_test, y_train, y_test = train_test_split(x, y, test_size=0.2, random_state=42)\n",
        "\n",
        "x.info(), y.info()"
      ],
      "metadata": {
        "colab": {
          "base_uri": "https://localhost:8080/"
        },
        "id": "q82MENYNoZ-q",
        "outputId": "8a1d6354-b3a0-4f0f-8b70-48ca95cf9cd8"
      },
      "execution_count": null,
      "outputs": [
        {
          "output_type": "stream",
          "name": "stdout",
          "text": [
            "<class 'pandas.core.frame.DataFrame'>\n",
            "RangeIndex: 201405 entries, 0 to 201404\n",
            "Columns: 348 entries, floor_area_sqm to Nearest NPC_Yishun North Neighbourhood Police Centre\n",
            "dtypes: bool(339), float64(9)\n",
            "memory usage: 78.9 MB\n",
            "<class 'pandas.core.series.Series'>\n",
            "RangeIndex: 201405 entries, 0 to 201404\n",
            "Series name: resale_price_real\n",
            "Non-Null Count   Dtype  \n",
            "--------------   -----  \n",
            "201405 non-null  float64\n",
            "dtypes: float64(1)\n",
            "memory usage: 1.5 MB\n"
          ]
        },
        {
          "output_type": "execute_result",
          "data": {
            "text/plain": [
              "(None, None)"
            ]
          },
          "metadata": {},
          "execution_count": 5
        }
      ]
    },
    {
      "cell_type": "code",
      "source": [
        "x.head()"
      ],
      "metadata": {
        "colab": {
          "base_uri": "https://localhost:8080/",
          "height": 325
        },
        "id": "XPnG2pRGbdLf",
        "outputId": "1179f134-3bd2-4035-ac99-a78930d758cd"
      },
      "execution_count": null,
      "outputs": [
        {
          "output_type": "execute_result",
          "data": {
            "text/plain": [
              "   floor_area_sqm  lease_commence_date    year  storey_mid  \\\n",
              "0            44.0               1979.0  2017.0        11.0   \n",
              "1            67.0               1978.0  2017.0         2.0   \n",
              "2            67.0               1980.0  2017.0         2.0   \n",
              "3            68.0               1980.0  2017.0         5.0   \n",
              "4            67.0               1980.0  2017.0         2.0   \n",
              "\n",
              "   remaining_lease_years  Nearest MRT Distance  Nearest Mall Distance  \\\n",
              "0              61.333333              1.003997               1.017286   \n",
              "1              60.583333              0.189875               1.155700   \n",
              "2              62.416667              0.535117               1.925633   \n",
              "3              62.000000              0.945529               0.892904   \n",
              "4              62.416667              0.501152               1.969726   \n",
              "\n",
              "   Nearest NPC Distance     cpi  town_ANG MO KIO  ...  \\\n",
              "0              0.829747  85.102             True  ...   \n",
              "1              1.499927  85.102             True  ...   \n",
              "2              1.182304  85.102             True  ...   \n",
              "3              0.741873  85.102             True  ...   \n",
              "4              1.192218  85.102             True  ...   \n",
              "\n",
              "   Nearest NPC_Rochor Neighbourhood Police Centre  \\\n",
              "0                                           False   \n",
              "1                                           False   \n",
              "2                                           False   \n",
              "3                                           False   \n",
              "4                                           False   \n",
              "\n",
              "   Nearest NPC_Sembawang Neighbourhood Police Centre  \\\n",
              "0                                              False   \n",
              "1                                              False   \n",
              "2                                              False   \n",
              "3                                              False   \n",
              "4                                              False   \n",
              "\n",
              "   Nearest NPC_Sengkang Neighbourhood Police Centre  \\\n",
              "0                                             False   \n",
              "1                                             False   \n",
              "2                                             False   \n",
              "3                                             False   \n",
              "4                                             False   \n",
              "\n",
              "   Nearest NPC_Serangoon Neighbourhood Police Centre  \\\n",
              "0                                              False   \n",
              "1                                              False   \n",
              "2                                              False   \n",
              "3                                              False   \n",
              "4                                              False   \n",
              "\n",
              "   Nearest NPC_Tampines Neighbourhood Police Centre  \\\n",
              "0                                             False   \n",
              "1                                             False   \n",
              "2                                             False   \n",
              "3                                             False   \n",
              "4                                             False   \n",
              "\n",
              "   Nearest NPC_Toa Payoh Neighbourhood Police Centre  \\\n",
              "0                                              False   \n",
              "1                                              False   \n",
              "2                                              False   \n",
              "3                                              False   \n",
              "4                                              False   \n",
              "\n",
              "   Nearest NPC_Woodlands East Neighbourhood Police Centre  \\\n",
              "0                                              False        \n",
              "1                                              False        \n",
              "2                                              False        \n",
              "3                                              False        \n",
              "4                                              False        \n",
              "\n",
              "   Nearest NPC_Woodlands Neighbourhood Police Centre  \\\n",
              "0                                              False   \n",
              "1                                              False   \n",
              "2                                              False   \n",
              "3                                              False   \n",
              "4                                              False   \n",
              "\n",
              "   Nearest NPC_Woodlands West Neighbourhood Police Centre  \\\n",
              "0                                              False        \n",
              "1                                              False        \n",
              "2                                              False        \n",
              "3                                              False        \n",
              "4                                              False        \n",
              "\n",
              "   Nearest NPC_Yishun North Neighbourhood Police Centre  \n",
              "0                                              False     \n",
              "1                                              False     \n",
              "2                                              False     \n",
              "3                                              False     \n",
              "4                                              False     \n",
              "\n",
              "[5 rows x 348 columns]"
            ],
            "text/html": [
              "\n",
              "  <div id=\"df-33d6fa85-bea6-4462-8da5-644c0cc113e9\" class=\"colab-df-container\">\n",
              "    <div>\n",
              "<style scoped>\n",
              "    .dataframe tbody tr th:only-of-type {\n",
              "        vertical-align: middle;\n",
              "    }\n",
              "\n",
              "    .dataframe tbody tr th {\n",
              "        vertical-align: top;\n",
              "    }\n",
              "\n",
              "    .dataframe thead th {\n",
              "        text-align: right;\n",
              "    }\n",
              "</style>\n",
              "<table border=\"1\" class=\"dataframe\">\n",
              "  <thead>\n",
              "    <tr style=\"text-align: right;\">\n",
              "      <th></th>\n",
              "      <th>floor_area_sqm</th>\n",
              "      <th>lease_commence_date</th>\n",
              "      <th>year</th>\n",
              "      <th>storey_mid</th>\n",
              "      <th>remaining_lease_years</th>\n",
              "      <th>Nearest MRT Distance</th>\n",
              "      <th>Nearest Mall Distance</th>\n",
              "      <th>Nearest NPC Distance</th>\n",
              "      <th>cpi</th>\n",
              "      <th>town_ANG MO KIO</th>\n",
              "      <th>...</th>\n",
              "      <th>Nearest NPC_Rochor Neighbourhood Police Centre</th>\n",
              "      <th>Nearest NPC_Sembawang Neighbourhood Police Centre</th>\n",
              "      <th>Nearest NPC_Sengkang Neighbourhood Police Centre</th>\n",
              "      <th>Nearest NPC_Serangoon Neighbourhood Police Centre</th>\n",
              "      <th>Nearest NPC_Tampines Neighbourhood Police Centre</th>\n",
              "      <th>Nearest NPC_Toa Payoh Neighbourhood Police Centre</th>\n",
              "      <th>Nearest NPC_Woodlands East Neighbourhood Police Centre</th>\n",
              "      <th>Nearest NPC_Woodlands Neighbourhood Police Centre</th>\n",
              "      <th>Nearest NPC_Woodlands West Neighbourhood Police Centre</th>\n",
              "      <th>Nearest NPC_Yishun North Neighbourhood Police Centre</th>\n",
              "    </tr>\n",
              "  </thead>\n",
              "  <tbody>\n",
              "    <tr>\n",
              "      <th>0</th>\n",
              "      <td>44.0</td>\n",
              "      <td>1979.0</td>\n",
              "      <td>2017.0</td>\n",
              "      <td>11.0</td>\n",
              "      <td>61.333333</td>\n",
              "      <td>1.003997</td>\n",
              "      <td>1.017286</td>\n",
              "      <td>0.829747</td>\n",
              "      <td>85.102</td>\n",
              "      <td>True</td>\n",
              "      <td>...</td>\n",
              "      <td>False</td>\n",
              "      <td>False</td>\n",
              "      <td>False</td>\n",
              "      <td>False</td>\n",
              "      <td>False</td>\n",
              "      <td>False</td>\n",
              "      <td>False</td>\n",
              "      <td>False</td>\n",
              "      <td>False</td>\n",
              "      <td>False</td>\n",
              "    </tr>\n",
              "    <tr>\n",
              "      <th>1</th>\n",
              "      <td>67.0</td>\n",
              "      <td>1978.0</td>\n",
              "      <td>2017.0</td>\n",
              "      <td>2.0</td>\n",
              "      <td>60.583333</td>\n",
              "      <td>0.189875</td>\n",
              "      <td>1.155700</td>\n",
              "      <td>1.499927</td>\n",
              "      <td>85.102</td>\n",
              "      <td>True</td>\n",
              "      <td>...</td>\n",
              "      <td>False</td>\n",
              "      <td>False</td>\n",
              "      <td>False</td>\n",
              "      <td>False</td>\n",
              "      <td>False</td>\n",
              "      <td>False</td>\n",
              "      <td>False</td>\n",
              "      <td>False</td>\n",
              "      <td>False</td>\n",
              "      <td>False</td>\n",
              "    </tr>\n",
              "    <tr>\n",
              "      <th>2</th>\n",
              "      <td>67.0</td>\n",
              "      <td>1980.0</td>\n",
              "      <td>2017.0</td>\n",
              "      <td>2.0</td>\n",
              "      <td>62.416667</td>\n",
              "      <td>0.535117</td>\n",
              "      <td>1.925633</td>\n",
              "      <td>1.182304</td>\n",
              "      <td>85.102</td>\n",
              "      <td>True</td>\n",
              "      <td>...</td>\n",
              "      <td>False</td>\n",
              "      <td>False</td>\n",
              "      <td>False</td>\n",
              "      <td>False</td>\n",
              "      <td>False</td>\n",
              "      <td>False</td>\n",
              "      <td>False</td>\n",
              "      <td>False</td>\n",
              "      <td>False</td>\n",
              "      <td>False</td>\n",
              "    </tr>\n",
              "    <tr>\n",
              "      <th>3</th>\n",
              "      <td>68.0</td>\n",
              "      <td>1980.0</td>\n",
              "      <td>2017.0</td>\n",
              "      <td>5.0</td>\n",
              "      <td>62.000000</td>\n",
              "      <td>0.945529</td>\n",
              "      <td>0.892904</td>\n",
              "      <td>0.741873</td>\n",
              "      <td>85.102</td>\n",
              "      <td>True</td>\n",
              "      <td>...</td>\n",
              "      <td>False</td>\n",
              "      <td>False</td>\n",
              "      <td>False</td>\n",
              "      <td>False</td>\n",
              "      <td>False</td>\n",
              "      <td>False</td>\n",
              "      <td>False</td>\n",
              "      <td>False</td>\n",
              "      <td>False</td>\n",
              "      <td>False</td>\n",
              "    </tr>\n",
              "    <tr>\n",
              "      <th>4</th>\n",
              "      <td>67.0</td>\n",
              "      <td>1980.0</td>\n",
              "      <td>2017.0</td>\n",
              "      <td>2.0</td>\n",
              "      <td>62.416667</td>\n",
              "      <td>0.501152</td>\n",
              "      <td>1.969726</td>\n",
              "      <td>1.192218</td>\n",
              "      <td>85.102</td>\n",
              "      <td>True</td>\n",
              "      <td>...</td>\n",
              "      <td>False</td>\n",
              "      <td>False</td>\n",
              "      <td>False</td>\n",
              "      <td>False</td>\n",
              "      <td>False</td>\n",
              "      <td>False</td>\n",
              "      <td>False</td>\n",
              "      <td>False</td>\n",
              "      <td>False</td>\n",
              "      <td>False</td>\n",
              "    </tr>\n",
              "  </tbody>\n",
              "</table>\n",
              "<p>5 rows × 348 columns</p>\n",
              "</div>\n",
              "    <div class=\"colab-df-buttons\">\n",
              "\n",
              "  <div class=\"colab-df-container\">\n",
              "    <button class=\"colab-df-convert\" onclick=\"convertToInteractive('df-33d6fa85-bea6-4462-8da5-644c0cc113e9')\"\n",
              "            title=\"Convert this dataframe to an interactive table.\"\n",
              "            style=\"display:none;\">\n",
              "\n",
              "  <svg xmlns=\"http://www.w3.org/2000/svg\" height=\"24px\" viewBox=\"0 -960 960 960\">\n",
              "    <path d=\"M120-120v-720h720v720H120Zm60-500h600v-160H180v160Zm220 220h160v-160H400v160Zm0 220h160v-160H400v160ZM180-400h160v-160H180v160Zm440 0h160v-160H620v160ZM180-180h160v-160H180v160Zm440 0h160v-160H620v160Z\"/>\n",
              "  </svg>\n",
              "    </button>\n",
              "\n",
              "  <style>\n",
              "    .colab-df-container {\n",
              "      display:flex;\n",
              "      gap: 12px;\n",
              "    }\n",
              "\n",
              "    .colab-df-convert {\n",
              "      background-color: #E8F0FE;\n",
              "      border: none;\n",
              "      border-radius: 50%;\n",
              "      cursor: pointer;\n",
              "      display: none;\n",
              "      fill: #1967D2;\n",
              "      height: 32px;\n",
              "      padding: 0 0 0 0;\n",
              "      width: 32px;\n",
              "    }\n",
              "\n",
              "    .colab-df-convert:hover {\n",
              "      background-color: #E2EBFA;\n",
              "      box-shadow: 0px 1px 2px rgba(60, 64, 67, 0.3), 0px 1px 3px 1px rgba(60, 64, 67, 0.15);\n",
              "      fill: #174EA6;\n",
              "    }\n",
              "\n",
              "    .colab-df-buttons div {\n",
              "      margin-bottom: 4px;\n",
              "    }\n",
              "\n",
              "    [theme=dark] .colab-df-convert {\n",
              "      background-color: #3B4455;\n",
              "      fill: #D2E3FC;\n",
              "    }\n",
              "\n",
              "    [theme=dark] .colab-df-convert:hover {\n",
              "      background-color: #434B5C;\n",
              "      box-shadow: 0px 1px 3px 1px rgba(0, 0, 0, 0.15);\n",
              "      filter: drop-shadow(0px 1px 2px rgba(0, 0, 0, 0.3));\n",
              "      fill: #FFFFFF;\n",
              "    }\n",
              "  </style>\n",
              "\n",
              "    <script>\n",
              "      const buttonEl =\n",
              "        document.querySelector('#df-33d6fa85-bea6-4462-8da5-644c0cc113e9 button.colab-df-convert');\n",
              "      buttonEl.style.display =\n",
              "        google.colab.kernel.accessAllowed ? 'block' : 'none';\n",
              "\n",
              "      async function convertToInteractive(key) {\n",
              "        const element = document.querySelector('#df-33d6fa85-bea6-4462-8da5-644c0cc113e9');\n",
              "        const dataTable =\n",
              "          await google.colab.kernel.invokeFunction('convertToInteractive',\n",
              "                                                    [key], {});\n",
              "        if (!dataTable) return;\n",
              "\n",
              "        const docLinkHtml = 'Like what you see? Visit the ' +\n",
              "          '<a target=\"_blank\" href=https://colab.research.google.com/notebooks/data_table.ipynb>data table notebook</a>'\n",
              "          + ' to learn more about interactive tables.';\n",
              "        element.innerHTML = '';\n",
              "        dataTable['output_type'] = 'display_data';\n",
              "        await google.colab.output.renderOutput(dataTable, element);\n",
              "        const docLink = document.createElement('div');\n",
              "        docLink.innerHTML = docLinkHtml;\n",
              "        element.appendChild(docLink);\n",
              "      }\n",
              "    </script>\n",
              "  </div>\n",
              "\n",
              "\n",
              "<div id=\"df-ece3d682-8397-4724-bb4a-7d835db51c3a\">\n",
              "  <button class=\"colab-df-quickchart\" onclick=\"quickchart('df-ece3d682-8397-4724-bb4a-7d835db51c3a')\"\n",
              "            title=\"Suggest charts\"\n",
              "            style=\"display:none;\">\n",
              "\n",
              "<svg xmlns=\"http://www.w3.org/2000/svg\" height=\"24px\"viewBox=\"0 0 24 24\"\n",
              "     width=\"24px\">\n",
              "    <g>\n",
              "        <path d=\"M19 3H5c-1.1 0-2 .9-2 2v14c0 1.1.9 2 2 2h14c1.1 0 2-.9 2-2V5c0-1.1-.9-2-2-2zM9 17H7v-7h2v7zm4 0h-2V7h2v10zm4 0h-2v-4h2v4z\"/>\n",
              "    </g>\n",
              "</svg>\n",
              "  </button>\n",
              "\n",
              "<style>\n",
              "  .colab-df-quickchart {\n",
              "      --bg-color: #E8F0FE;\n",
              "      --fill-color: #1967D2;\n",
              "      --hover-bg-color: #E2EBFA;\n",
              "      --hover-fill-color: #174EA6;\n",
              "      --disabled-fill-color: #AAA;\n",
              "      --disabled-bg-color: #DDD;\n",
              "  }\n",
              "\n",
              "  [theme=dark] .colab-df-quickchart {\n",
              "      --bg-color: #3B4455;\n",
              "      --fill-color: #D2E3FC;\n",
              "      --hover-bg-color: #434B5C;\n",
              "      --hover-fill-color: #FFFFFF;\n",
              "      --disabled-bg-color: #3B4455;\n",
              "      --disabled-fill-color: #666;\n",
              "  }\n",
              "\n",
              "  .colab-df-quickchart {\n",
              "    background-color: var(--bg-color);\n",
              "    border: none;\n",
              "    border-radius: 50%;\n",
              "    cursor: pointer;\n",
              "    display: none;\n",
              "    fill: var(--fill-color);\n",
              "    height: 32px;\n",
              "    padding: 0;\n",
              "    width: 32px;\n",
              "  }\n",
              "\n",
              "  .colab-df-quickchart:hover {\n",
              "    background-color: var(--hover-bg-color);\n",
              "    box-shadow: 0 1px 2px rgba(60, 64, 67, 0.3), 0 1px 3px 1px rgba(60, 64, 67, 0.15);\n",
              "    fill: var(--button-hover-fill-color);\n",
              "  }\n",
              "\n",
              "  .colab-df-quickchart-complete:disabled,\n",
              "  .colab-df-quickchart-complete:disabled:hover {\n",
              "    background-color: var(--disabled-bg-color);\n",
              "    fill: var(--disabled-fill-color);\n",
              "    box-shadow: none;\n",
              "  }\n",
              "\n",
              "  .colab-df-spinner {\n",
              "    border: 2px solid var(--fill-color);\n",
              "    border-color: transparent;\n",
              "    border-bottom-color: var(--fill-color);\n",
              "    animation:\n",
              "      spin 1s steps(1) infinite;\n",
              "  }\n",
              "\n",
              "  @keyframes spin {\n",
              "    0% {\n",
              "      border-color: transparent;\n",
              "      border-bottom-color: var(--fill-color);\n",
              "      border-left-color: var(--fill-color);\n",
              "    }\n",
              "    20% {\n",
              "      border-color: transparent;\n",
              "      border-left-color: var(--fill-color);\n",
              "      border-top-color: var(--fill-color);\n",
              "    }\n",
              "    30% {\n",
              "      border-color: transparent;\n",
              "      border-left-color: var(--fill-color);\n",
              "      border-top-color: var(--fill-color);\n",
              "      border-right-color: var(--fill-color);\n",
              "    }\n",
              "    40% {\n",
              "      border-color: transparent;\n",
              "      border-right-color: var(--fill-color);\n",
              "      border-top-color: var(--fill-color);\n",
              "    }\n",
              "    60% {\n",
              "      border-color: transparent;\n",
              "      border-right-color: var(--fill-color);\n",
              "    }\n",
              "    80% {\n",
              "      border-color: transparent;\n",
              "      border-right-color: var(--fill-color);\n",
              "      border-bottom-color: var(--fill-color);\n",
              "    }\n",
              "    90% {\n",
              "      border-color: transparent;\n",
              "      border-bottom-color: var(--fill-color);\n",
              "    }\n",
              "  }\n",
              "</style>\n",
              "\n",
              "  <script>\n",
              "    async function quickchart(key) {\n",
              "      const quickchartButtonEl =\n",
              "        document.querySelector('#' + key + ' button');\n",
              "      quickchartButtonEl.disabled = true;  // To prevent multiple clicks.\n",
              "      quickchartButtonEl.classList.add('colab-df-spinner');\n",
              "      try {\n",
              "        const charts = await google.colab.kernel.invokeFunction(\n",
              "            'suggestCharts', [key], {});\n",
              "      } catch (error) {\n",
              "        console.error('Error during call to suggestCharts:', error);\n",
              "      }\n",
              "      quickchartButtonEl.classList.remove('colab-df-spinner');\n",
              "      quickchartButtonEl.classList.add('colab-df-quickchart-complete');\n",
              "    }\n",
              "    (() => {\n",
              "      let quickchartButtonEl =\n",
              "        document.querySelector('#df-ece3d682-8397-4724-bb4a-7d835db51c3a button');\n",
              "      quickchartButtonEl.style.display =\n",
              "        google.colab.kernel.accessAllowed ? 'block' : 'none';\n",
              "    })();\n",
              "  </script>\n",
              "</div>\n",
              "\n",
              "    </div>\n",
              "  </div>\n"
            ],
            "application/vnd.google.colaboratory.intrinsic+json": {
              "type": "dataframe",
              "variable_name": "x"
            }
          },
          "metadata": {},
          "execution_count": 6
        }
      ]
    },
    {
      "cell_type": "markdown",
      "source": [
        "# Neural Network"
      ],
      "metadata": {
        "id": "UGvQWwhv7uvQ"
      }
    },
    {
      "cell_type": "markdown",
      "source": [
        "NN"
      ],
      "metadata": {
        "id": "BSYymyxipKlx"
      }
    },
    {
      "cell_type": "code",
      "source": [
        "import torch\n",
        "import torch.nn as nn\n",
        "import torch.optim as optim\n",
        "from sklearn.preprocessing import StandardScaler\n",
        "from torch.utils.data import TensorDataset, DataLoader\n",
        "import numpy as np"
      ],
      "metadata": {
        "id": "pmxul_i_pLw2"
      },
      "execution_count": null,
      "outputs": []
    },
    {
      "cell_type": "code",
      "source": [
        "# Standardize the data\n",
        "scaler = StandardScaler()\n",
        "x_train_scaled = scaler.fit_transform(x_train)\n",
        "x_test_scaled = scaler.transform(x_test)\n",
        "\n",
        "# Convert to PyTorch tensors\n",
        "X_train_tensor = torch.tensor(x_train_scaled, dtype=torch.float32)\n",
        "y_train_tensor = torch.tensor(y_train.values, dtype=torch.float32).view(-1, 1)\n",
        "\n",
        "X_test_tensor = torch.tensor(x_test_scaled, dtype=torch.float32)\n",
        "y_test_tensor = torch.tensor(y_test.values, dtype=torch.float32).view(-1, 1)"
      ],
      "metadata": {
        "id": "cY4bsxSSpXTL"
      },
      "execution_count": null,
      "outputs": []
    },
    {
      "cell_type": "code",
      "source": [
        "# Create DataLoader\n",
        "train_dataset = TensorDataset(X_train_tensor, y_train_tensor)\n",
        "generator = torch.Generator(device=device).manual_seed(42)\n",
        "train_loader = DataLoader(train_dataset, batch_size=512, shuffle=True, generator=generator)"
      ],
      "metadata": {
        "id": "xPLZlgikpjmU"
      },
      "execution_count": null,
      "outputs": []
    },
    {
      "cell_type": "code",
      "source": [
        "# Define the neural network model\n",
        "class ResalePriceNN(nn.Module):\n",
        "    def __init__(self, input_dim):\n",
        "        super(ResalePriceNN, self).__init__()\n",
        "        self.net = nn.Sequential(\n",
        "            nn.Linear(input_dim, 128),\n",
        "            nn.ReLU(),\n",
        "            nn.Linear(128, 64),\n",
        "            nn.ReLU(),\n",
        "            nn.Linear(64, 32),\n",
        "            nn.ReLU(),\n",
        "            nn.Linear(32, 1)\n",
        "        )\n",
        "\n",
        "    def forward(self, x):\n",
        "        return self.net(x)"
      ],
      "metadata": {
        "id": "NoFc0U8_psyr"
      },
      "execution_count": null,
      "outputs": []
    },
    {
      "cell_type": "code",
      "source": [
        "print(\"NaNs in X_train_tensor:\", torch.isnan(X_train_tensor).any())\n",
        "print(\"Infs in X_train_tensor:\", torch.isinf(X_train_tensor).any())\n",
        "print(\"NaNs in y_train_tensor:\", torch.isnan(y_train_tensor).any())\n",
        "print(\"Infs in y_train_tensor:\", torch.isinf(y_train_tensor).any())"
      ],
      "metadata": {
        "colab": {
          "base_uri": "https://localhost:8080/"
        },
        "id": "Wy6841gBq50_",
        "outputId": "894061a4-eb51-4a98-d41b-887a6eb8dcd7"
      },
      "execution_count": null,
      "outputs": [
        {
          "output_type": "stream",
          "name": "stdout",
          "text": [
            "NaNs in X_train_tensor: tensor(False, device='cuda:0')\n",
            "Infs in X_train_tensor: tensor(False, device='cuda:0')\n",
            "NaNs in y_train_tensor: tensor(False, device='cuda:0')\n",
            "Infs in y_train_tensor: tensor(False, device='cuda:0')\n"
          ]
        }
      ]
    },
    {
      "cell_type": "code",
      "source": [
        "# Find the indices of NaN values in X_train_tensor\n",
        "nan_indices = np.where(torch.isnan(X_train_tensor.cpu()))\n",
        "\n",
        "# Get the row indices from the NaN indices\n",
        "row_indices = nan_indices[0]  # Assuming the first dimension represents rows\n",
        "\n",
        "# Print the corresponding rows from x_train\n",
        "print(x_train.iloc[row_indices])"
      ],
      "metadata": {
        "colab": {
          "base_uri": "https://localhost:8080/"
        },
        "id": "0PomJL-RrKQE",
        "outputId": "47ca970d-2596-4486-917f-714f6a2dd5f1"
      },
      "execution_count": null,
      "outputs": [
        {
          "output_type": "stream",
          "name": "stdout",
          "text": [
            "Empty DataFrame\n",
            "Columns: [floor_area_sqm, lease_commence_date, year, storey_mid, remaining_lease_years, Address Lat, Address Long, Nearest MRT Distance, Nearest Mall Distance, Nearest NPC Distance, cpi, town_ANG MO KIO, town_BEDOK, town_BISHAN, town_BUKIT BATOK, town_BUKIT MERAH, town_BUKIT PANJANG, town_BUKIT TIMAH, town_CENTRAL AREA, town_CHOA CHU KANG, town_CLEMENTI, town_GEYLANG, town_HOUGANG, town_JURONG EAST, town_JURONG WEST, town_KALLANG/WHAMPOA, town_MARINE PARADE, town_PASIR RIS, town_PUNGGOL, town_QUEENSTOWN, town_SEMBAWANG, town_SENGKANG, town_SERANGOON, town_TAMPINES, town_TOA PAYOH, town_WOODLANDS, town_YISHUN, flat_type_1 ROOM, flat_type_2 ROOM, flat_type_3 ROOM, flat_type_4 ROOM, flat_type_5 ROOM, flat_type_EXECUTIVE, flat_type_MULTI-GENERATION, flat_model_2-room, flat_model_3Gen, flat_model_Adjoined flat, flat_model_Apartment, flat_model_DBSS, flat_model_Improved, flat_model_Improved-Maisonette, flat_model_Maisonette, flat_model_Model A, flat_model_Model A-Maisonette, flat_model_Model A2, flat_model_Multi Generation, flat_model_New Generation, flat_model_Premium Apartment, flat_model_Premium Apartment Loft, flat_model_Premium Maisonette, flat_model_Simplified, flat_model_Standard, flat_model_Terrace, flat_model_Type S1, flat_model_Type S2, Nearest MRT Station_ADMIRALTY MRT STATION (NS10), Nearest MRT Station_ALJUNIED MRT STATION (EW9), Nearest MRT Station_ANG MO KIO MRT STATION (NS16), Nearest MRT Station_BAKAU LRT STATION (SE3), Nearest MRT Station_BANGKIT LRT STATION (BP9), Nearest MRT Station_BARTLEY MRT STATION (CC12), Nearest MRT Station_BEAUTY WORLD MRT STATION (DT5), Nearest MRT Station_BEDOK MRT STATION (EW5), Nearest MRT Station_BEDOK NORTH MRT STATION (DT29), Nearest MRT Station_BEDOK RESERVOIR MRT STATION (DT30), Nearest MRT Station_BENCOOLEN MRT STATION (DT21), Nearest MRT Station_BENDEMEER MRT STATION (DT23), Nearest MRT Station_BISHAN MRT STATION (CC15), Nearest MRT Station_BISHAN MRT STATION (NS17), Nearest MRT Station_BOON KENG MRT STATION (NE9), Nearest MRT Station_BOON LAY MRT STATION (EW27), Nearest MRT Station_BOTANIC GARDENS MRT STATION (CC19), Nearest MRT Station_BRADDELL MRT STATION (NS18), Nearest MRT Station_BRAS BASAH MRT STATION (CC2), Nearest MRT Station_BRIGHT HILL MRT STATION (TE7), Nearest MRT Station_BUANGKOK MRT STATION (NE15), Nearest MRT Station_BUGIS MRT STATION (EW12), Nearest MRT Station_BUKIT BATOK MRT STATION (NS2), Nearest MRT Station_BUKIT GOMBAK MRT STATION (NS3), Nearest MRT Station_BUKIT PANJANG LRT STATION (BP6), Nearest MRT Station_BUKIT PANJANG MRT STATION (DT1), Nearest MRT Station_BUONA VISTA MRT STATION (CC22), Nearest MRT Station_BUONA VISTA MRT STATION (EW21), Nearest MRT Station_CALDECOTT MRT STATION (TE9), Nearest MRT Station_CANBERRA MRT STATION (NS12), Nearest MRT Station_CHENG LIM LRT STATION (SW1), Nearest MRT Station_CHINATOWN MRT STATION (DT19), Nearest MRT Station_CHINATOWN MRT STATION (NE4), Nearest MRT Station_CHINESE GARDEN MRT STATION (EW25), Nearest MRT Station_CHOA CHU KANG LRT STATION (BP1), ...]\n",
            "Index: []\n",
            "\n",
            "[0 rows x 350 columns]\n"
          ]
        }
      ]
    },
    {
      "cell_type": "code",
      "source": [
        "# Initialize model, loss, and optimizer\n",
        "model = ResalePriceNN(input_dim=X_train_tensor.shape[1])\n",
        "criterion = nn.MSELoss()\n",
        "optimizer = optim.Adam(model.parameters(), lr=0.001)\n",
        "\n",
        "# Training loop\n",
        "epochs = 100\n",
        "for epoch in range(epochs):\n",
        "    model.train()\n",
        "    for X_batch, y_batch in train_loader:\n",
        "        optimizer.zero_grad()\n",
        "        predictions = model(X_batch)\n",
        "        loss = criterion(predictions, y_batch)\n",
        "        loss.backward()\n",
        "        optimizer.step()\n",
        "    if (epoch + 1) % 5 == 0:\n",
        "        print(f\"Epoch {epoch+1}/{epochs} - MSE Loss: {loss.item():.2f}\")"
      ],
      "metadata": {
        "colab": {
          "base_uri": "https://localhost:8080/"
        },
        "id": "y0TCep4ppvyb",
        "outputId": "2a2b0b04-ecd9-408e-9625-83b54bed0c3f"
      },
      "execution_count": null,
      "outputs": [
        {
          "output_type": "stream",
          "name": "stdout",
          "text": [
            "Epoch 5/100 - MSE Loss: 2421945600.00\n",
            "Epoch 10/100 - MSE Loss: 1787261312.00\n",
            "Epoch 15/100 - MSE Loss: 1723180928.00\n",
            "Epoch 20/100 - MSE Loss: 1591743488.00\n",
            "Epoch 25/100 - MSE Loss: 1300089984.00\n",
            "Epoch 30/100 - MSE Loss: 1337346944.00\n",
            "Epoch 35/100 - MSE Loss: 1564999168.00\n",
            "Epoch 40/100 - MSE Loss: 1347056256.00\n",
            "Epoch 45/100 - MSE Loss: 1145667584.00\n",
            "Epoch 50/100 - MSE Loss: 1098703744.00\n",
            "Epoch 55/100 - MSE Loss: 943727872.00\n",
            "Epoch 60/100 - MSE Loss: 1324637056.00\n",
            "Epoch 65/100 - MSE Loss: 1187561728.00\n",
            "Epoch 70/100 - MSE Loss: 1010363712.00\n",
            "Epoch 75/100 - MSE Loss: 1130580096.00\n",
            "Epoch 80/100 - MSE Loss: 907240064.00\n",
            "Epoch 85/100 - MSE Loss: 1454206464.00\n",
            "Epoch 90/100 - MSE Loss: 1153321216.00\n",
            "Epoch 95/100 - MSE Loss: 1015007936.00\n",
            "Epoch 100/100 - MSE Loss: 1097026944.00\n"
          ]
        }
      ]
    },
    {
      "cell_type": "code",
      "source": [
        "# Evaluation\n",
        "model.eval()\n",
        "with torch.no_grad():\n",
        "    predictions = model(X_test_tensor).cpu().numpy().flatten()"
      ],
      "metadata": {
        "id": "BxVrvuxep427"
      },
      "execution_count": null,
      "outputs": []
    },
    {
      "cell_type": "code",
      "source": [
        "# Plot results\n",
        "import matplotlib.pyplot as plt\n",
        "from sklearn.metrics import root_mean_squared_error, r2_score\n",
        "\n",
        "plt.figure(figsize=(10, 6))\n",
        "plt.scatter(y_test, predictions, alpha=0.5, color='purple', label=\"Predicted vs Actual\")\n",
        "plt.plot([min(y_test), max(y_test)], [min(y_test), max(y_test)], color='red', linestyle='--', label=\"Perfect Fit (y=x)\")\n",
        "plt.xlabel(\"Actual Resale Price (Inflation-Adjusted)\")\n",
        "plt.ylabel(\"Predicted Resale Price\")\n",
        "plt.title(\"Neural Network: Predicted vs Actual Resale Prices\")\n",
        "plt.legend()\n",
        "plt.grid(True)\n",
        "plt.show()\n",
        "\n",
        "rmse = root_mean_squared_error(y_test, predictions)\n",
        "r2 = r2_score(y_test, predictions)\n",
        "print(f\"Root Mean Squared Error (RMSE): {rmse:.2f}\")\n",
        "print(f\"R-squared (R2): {r2:.2f}\")"
      ],
      "metadata": {
        "colab": {
          "base_uri": "https://localhost:8080/",
          "height": 599
        },
        "id": "lzt2Y7gEp8G-",
        "outputId": "33ef9291-3726-4cfd-fae6-9afc78b8e139"
      },
      "execution_count": null,
      "outputs": [
        {
          "output_type": "display_data",
          "data": {
            "text/plain": [
              "<Figure size 1000x600 with 1 Axes>"
            ],
            "image/png": "[encoded data removed]"
          },
          "metadata": {}
        },
        {
          "output_type": "stream",
          "name": "stdout",
          "text": [
            "Root Mean Squared Error (RMSE): 33616.97\n",
            "R-squared (R2): 0.97\n"
          ]
        }
      ]
    }
  ]
}